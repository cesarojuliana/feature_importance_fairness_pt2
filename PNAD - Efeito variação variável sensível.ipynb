{
 "cells": [
  {
   "cell_type": "code",
   "execution_count": 1,
   "metadata": {},
   "outputs": [],
   "source": [
    "import glob\n",
    "import pandas as pd\n",
    "import pickle\n",
    "import matplotlib.pyplot as pl\n",
    "import numpy as np\n",
    "\n",
    "from sklearn.metrics import roc_curve, auc"
   ]
  },
  {
   "cell_type": "markdown",
   "metadata": {},
   "source": [
    "## Funções "
   ]
  },
  {
   "cell_type": "code",
   "execution_count": 2,
   "metadata": {},
   "outputs": [],
   "source": [
    "def remove_axis(ax):\n",
    "    ax.spines[\"top\"].set_visible(False)\n",
    "    ax.spines[\"right\"].set_visible(False)\n",
    "    \n",
    "def plot_hist(dataset_name, data, model_name, X_test_priv, X_test_priv_inv):\n",
    "    model_path = glob.glob('models/{}_{}_{}.pkl'.format(dataset_name, model_name, data))[0]\n",
    "    model = pickle.load(open(model_path, 'rb'))\n",
    "    preds_priv = model.predict_proba(X_test_priv)[:,1]\n",
    "    preds_priv_class = model.predict(X_test_priv)\n",
    "    print('Total 0 unp: ', np.count_nonzero(preds_priv_class == 0))\n",
    "    print('Total 1 unp: ', np.count_nonzero(preds_priv_class == 1))\n",
    "    \n",
    "    preds_priv_inv = model.predict_proba(X_test_priv_inv)[:,1]\n",
    "    preds_priv_inv_class = model.predict(X_test_priv_inv)\n",
    "    print('Total 0 unp inv: ', np.count_nonzero(preds_priv_inv_class == 0))\n",
    "    print('Total 1 unp inv: ', np.count_nonzero(preds_priv_inv_class == 1))\n",
    "    \n",
    "    ax.hist(preds_priv, bins=50, color='darkred',\n",
    "            label='Previsão renda > 2500 : {}'.format(np.count_nonzero(preds_priv_class == 1)))\n",
    "    ax.hist(preds_priv_inv, bins=50, alpha=0.6, color='lightsalmon',\n",
    "            label='Previsão renda > 2500: {}'.format(np.count_nonzero(preds_priv_inv_class == 1)))\n",
    "    ax.legend(loc = 'upper right', frameon=False, title='Casos totais:')\n",
    "\n",
    "    ax.set_xlabel(model2title[model_name])\n",
    "    remove_axis(ax)"
   ]
  },
  {
   "cell_type": "code",
   "execution_count": 3,
   "metadata": {},
   "outputs": [],
   "source": [
    "model2title = {'gb': 'Gradient Boosting',\n",
    "               'rf': 'Random Forest',\n",
    "               'lr': 'Regressão Logística',\n",
    "               'svm': 'Support Vector Machine'}"
   ]
  },
  {
   "cell_type": "markdown",
   "metadata": {},
   "source": [
    "## PNAD Genero"
   ]
  },
  {
   "cell_type": "code",
   "execution_count": 7,
   "metadata": {
    "scrolled": true
   },
   "outputs": [
    {
     "data": {
      "text/html": [
       "<div>\n",
       "<style scoped>\n",
       "    .dataframe tbody tr th:only-of-type {\n",
       "        vertical-align: middle;\n",
       "    }\n",
       "\n",
       "    .dataframe tbody tr th {\n",
       "        vertical-align: top;\n",
       "    }\n",
       "\n",
       "    .dataframe thead th {\n",
       "        text-align: right;\n",
       "    }\n",
       "</style>\n",
       "<table border=\"1\" class=\"dataframe\">\n",
       "  <thead>\n",
       "    <tr style=\"text-align: right;\">\n",
       "      <th></th>\n",
       "      <th>genero</th>\n",
       "      <th>idade</th>\n",
       "      <th>anos_estudo</th>\n",
       "      <th>renda_bin</th>\n",
       "      <th>UF_11</th>\n",
       "      <th>UF_12</th>\n",
       "      <th>UF_13</th>\n",
       "      <th>UF_14</th>\n",
       "      <th>UF_15</th>\n",
       "      <th>UF_16</th>\n",
       "      <th>...</th>\n",
       "      <th>empreendimento_trabalho_12.0</th>\n",
       "      <th>ocupacao_trabalho_1.0</th>\n",
       "      <th>ocupacao_trabalho_2.0</th>\n",
       "      <th>ocupacao_trabalho_3.0</th>\n",
       "      <th>ocupacao_trabalho_4.0</th>\n",
       "      <th>ocupacao_trabalho_5.0</th>\n",
       "      <th>ocupacao_trabalho_6.0</th>\n",
       "      <th>ocupacao_trabalho_7.0</th>\n",
       "      <th>ocupacao_trabalho_8.0</th>\n",
       "      <th>ocupacao_trabalho_9.0</th>\n",
       "    </tr>\n",
       "  </thead>\n",
       "  <tbody>\n",
       "    <tr>\n",
       "      <th>0</th>\n",
       "      <td>1.0</td>\n",
       "      <td>-1.066956</td>\n",
       "      <td>-1.003326</td>\n",
       "      <td>0.0</td>\n",
       "      <td>0.0</td>\n",
       "      <td>0.0</td>\n",
       "      <td>0.0</td>\n",
       "      <td>0.0</td>\n",
       "      <td>0.0</td>\n",
       "      <td>0.0</td>\n",
       "      <td>...</td>\n",
       "      <td>0.0</td>\n",
       "      <td>0.0</td>\n",
       "      <td>0.0</td>\n",
       "      <td>0.0</td>\n",
       "      <td>0.0</td>\n",
       "      <td>0.0</td>\n",
       "      <td>0.0</td>\n",
       "      <td>0.0</td>\n",
       "      <td>1.0</td>\n",
       "      <td>0.0</td>\n",
       "    </tr>\n",
       "    <tr>\n",
       "      <th>1</th>\n",
       "      <td>0.0</td>\n",
       "      <td>0.310464</td>\n",
       "      <td>1.365107</td>\n",
       "      <td>0.0</td>\n",
       "      <td>0.0</td>\n",
       "      <td>0.0</td>\n",
       "      <td>0.0</td>\n",
       "      <td>0.0</td>\n",
       "      <td>0.0</td>\n",
       "      <td>0.0</td>\n",
       "      <td>...</td>\n",
       "      <td>0.0</td>\n",
       "      <td>0.0</td>\n",
       "      <td>0.0</td>\n",
       "      <td>0.0</td>\n",
       "      <td>0.0</td>\n",
       "      <td>1.0</td>\n",
       "      <td>0.0</td>\n",
       "      <td>0.0</td>\n",
       "      <td>0.0</td>\n",
       "      <td>0.0</td>\n",
       "    </tr>\n",
       "    <tr>\n",
       "      <th>2</th>\n",
       "      <td>1.0</td>\n",
       "      <td>-0.684339</td>\n",
       "      <td>0.654577</td>\n",
       "      <td>0.0</td>\n",
       "      <td>0.0</td>\n",
       "      <td>0.0</td>\n",
       "      <td>0.0</td>\n",
       "      <td>0.0</td>\n",
       "      <td>0.0</td>\n",
       "      <td>0.0</td>\n",
       "      <td>...</td>\n",
       "      <td>0.0</td>\n",
       "      <td>0.0</td>\n",
       "      <td>0.0</td>\n",
       "      <td>0.0</td>\n",
       "      <td>0.0</td>\n",
       "      <td>0.0</td>\n",
       "      <td>0.0</td>\n",
       "      <td>0.0</td>\n",
       "      <td>1.0</td>\n",
       "      <td>0.0</td>\n",
       "    </tr>\n",
       "    <tr>\n",
       "      <th>3</th>\n",
       "      <td>1.0</td>\n",
       "      <td>1.075697</td>\n",
       "      <td>-0.766483</td>\n",
       "      <td>0.0</td>\n",
       "      <td>0.0</td>\n",
       "      <td>0.0</td>\n",
       "      <td>0.0</td>\n",
       "      <td>0.0</td>\n",
       "      <td>0.0</td>\n",
       "      <td>0.0</td>\n",
       "      <td>...</td>\n",
       "      <td>0.0</td>\n",
       "      <td>0.0</td>\n",
       "      <td>0.0</td>\n",
       "      <td>0.0</td>\n",
       "      <td>0.0</td>\n",
       "      <td>0.0</td>\n",
       "      <td>0.0</td>\n",
       "      <td>0.0</td>\n",
       "      <td>1.0</td>\n",
       "      <td>0.0</td>\n",
       "    </tr>\n",
       "    <tr>\n",
       "      <th>4</th>\n",
       "      <td>0.0</td>\n",
       "      <td>0.769604</td>\n",
       "      <td>-0.292797</td>\n",
       "      <td>0.0</td>\n",
       "      <td>0.0</td>\n",
       "      <td>0.0</td>\n",
       "      <td>0.0</td>\n",
       "      <td>0.0</td>\n",
       "      <td>1.0</td>\n",
       "      <td>0.0</td>\n",
       "      <td>...</td>\n",
       "      <td>0.0</td>\n",
       "      <td>0.0</td>\n",
       "      <td>0.0</td>\n",
       "      <td>0.0</td>\n",
       "      <td>0.0</td>\n",
       "      <td>1.0</td>\n",
       "      <td>0.0</td>\n",
       "      <td>0.0</td>\n",
       "      <td>0.0</td>\n",
       "      <td>0.0</td>\n",
       "    </tr>\n",
       "  </tbody>\n",
       "</table>\n",
       "<p>5 rows × 71 columns</p>\n",
       "</div>"
      ],
      "text/plain": [
       "   genero     idade  anos_estudo  renda_bin  UF_11  UF_12  UF_13  UF_14  \\\n",
       "0     1.0 -1.066956    -1.003326        0.0    0.0    0.0    0.0    0.0   \n",
       "1     0.0  0.310464     1.365107        0.0    0.0    0.0    0.0    0.0   \n",
       "2     1.0 -0.684339     0.654577        0.0    0.0    0.0    0.0    0.0   \n",
       "3     1.0  1.075697    -0.766483        0.0    0.0    0.0    0.0    0.0   \n",
       "4     0.0  0.769604    -0.292797        0.0    0.0    0.0    0.0    0.0   \n",
       "\n",
       "   UF_15  UF_16  ...  empreendimento_trabalho_12.0  ocupacao_trabalho_1.0  \\\n",
       "0    0.0    0.0  ...                           0.0                    0.0   \n",
       "1    0.0    0.0  ...                           0.0                    0.0   \n",
       "2    0.0    0.0  ...                           0.0                    0.0   \n",
       "3    0.0    0.0  ...                           0.0                    0.0   \n",
       "4    1.0    0.0  ...                           0.0                    0.0   \n",
       "\n",
       "   ocupacao_trabalho_2.0  ocupacao_trabalho_3.0  ocupacao_trabalho_4.0  \\\n",
       "0                    0.0                    0.0                    0.0   \n",
       "1                    0.0                    0.0                    0.0   \n",
       "2                    0.0                    0.0                    0.0   \n",
       "3                    0.0                    0.0                    0.0   \n",
       "4                    0.0                    0.0                    0.0   \n",
       "\n",
       "   ocupacao_trabalho_5.0  ocupacao_trabalho_6.0  ocupacao_trabalho_7.0  \\\n",
       "0                    0.0                    0.0                    0.0   \n",
       "1                    1.0                    0.0                    0.0   \n",
       "2                    0.0                    0.0                    0.0   \n",
       "3                    0.0                    0.0                    0.0   \n",
       "4                    1.0                    0.0                    0.0   \n",
       "\n",
       "   ocupacao_trabalho_8.0  ocupacao_trabalho_9.0  \n",
       "0                    1.0                    0.0  \n",
       "1                    0.0                    0.0  \n",
       "2                    1.0                    0.0  \n",
       "3                    1.0                    0.0  \n",
       "4                    0.0                    0.0  \n",
       "\n",
       "[5 rows x 71 columns]"
      ]
     },
     "execution_count": 7,
     "metadata": {},
     "output_type": "execute_result"
    }
   ],
   "source": [
    "label = 'renda_bin'\n",
    "protected_attribute = 'genero'\n",
    "dataset_name = 'pnad_genero'\n",
    "data = 'orig'\n",
    "\n",
    "df_test = pd.read_csv('data/{}_test.csv'.format(dataset_name))\n",
    "X_test_priv = df_test[df_test[protected_attribute]==1].drop(label, axis=1)\n",
    "y_test_priv = df_test.loc[df_test[protected_attribute]==1, label].values\n",
    "X_test_unpriv = df_test[df_test[protected_attribute]==0].drop(label, axis=1)\n",
    "y_test_unpriv = df_test.loc[df_test[protected_attribute]==0, label].values\n",
    "\n",
    "models_path = glob.glob('models/{}*_{}.pkl'.format(dataset_name, data))\n",
    "df_test.head()"
   ]
  },
  {
   "cell_type": "code",
   "execution_count": 8,
   "metadata": {
    "scrolled": false
   },
   "outputs": [
    {
     "name": "stdout",
     "output_type": "stream",
     "text": [
      "Total 0 unp:  526\n",
      "Total 1 unp:  72\n",
      "Total 0 unp inv:  555\n",
      "Total 1 unp inv:  43\n",
      "Total 0 unp:  537\n",
      "Total 1 unp:  61\n",
      "Total 0 unp inv:  559\n",
      "Total 1 unp inv:  39\n"
     ]
    },
    {
     "data": {
      "text/plain": [
       "Text(0.5,0.98,'Distribuição da probabilidade prevista para o grupo privilegiado (homens)')"
      ]
     },
     "execution_count": 8,
     "metadata": {},
     "output_type": "execute_result"
    },
    {
     "data": {
      "image/png": "[encoded data removed]",
      "text/plain": [
       "<matplotlib.figure.Figure at 0x7effb7a4b6d8>"
      ]
     },
     "metadata": {
      "needs_background": "light"
     },
     "output_type": "display_data"
    }
   ],
   "source": [
    "dataset_name = 'pnad_genero'\n",
    "data = 'orig'\n",
    "X_test_priv_inv = X_test_priv.copy()\n",
    "X_test_priv_inv[protected_attribute] = 0\n",
    "\n",
    "fig, axes = pl.subplots(nrows=1, ncols=2, figsize=(13,3.5))\n",
    "model_name = 'gb'\n",
    "ax=axes[0]\n",
    "plot_hist(dataset_name, data, model_name, X_test_priv, X_test_priv_inv)\n",
    "\n",
    "\n",
    "model_name = 'lr'\n",
    "ax=axes[1]\n",
    "plot_hist(dataset_name, data, model_name, X_test_priv, X_test_priv_inv)\n",
    "pl.suptitle(\"Distribuição da probabilidade prevista para o grupo privilegiado (homens)\", fontsize=12, \n",
    "             fontweight='bold')\n",
    "# fig.legend(['original', 'invertida'], title=\"Variável sensível:\",\n",
    "#            frameon=False, loc = 'upper left')\n",
    "# pl.show()\n",
    "# pl.savefig('analysis_image/hist_pnad_genero.png', bbox_inches='tight', transparent=True)"
   ]
  },
  {
   "cell_type": "markdown",
   "metadata": {},
   "source": [
    "## PNAD raça"
   ]
  },
  {
   "cell_type": "code",
   "execution_count": 9,
   "metadata": {},
   "outputs": [],
   "source": [
    "label = 'renda_bin'\n",
    "protected_attribute = 'raca_bin'\n",
    "dataset_name = 'pnad_raca'\n",
    "data = 'orig'\n",
    "\n",
    "df_test = pd.read_csv('data/{}_test.csv'.format(dataset_name))\n",
    "X_test_priv = df_test[df_test[protected_attribute]==1].drop(label, axis=1)\n",
    "y_test_priv = df_test.loc[df_test[protected_attribute]==1, label].values\n",
    "X_test_unpriv = df_test[df_test[protected_attribute]==0].drop(label, axis=1)\n",
    "y_test_unpriv = df_test.loc[df_test[protected_attribute]==0, label].values\n",
    "\n",
    "models_path = glob.glob('models/{}*_{}.pkl'.format(dataset_name, data))"
   ]
  },
  {
   "cell_type": "code",
   "execution_count": 10,
   "metadata": {},
   "outputs": [
    {
     "name": "stdout",
     "output_type": "stream",
     "text": [
      "Total 0 unp:  374\n",
      "Total 1 unp:  83\n",
      "Total 0 unp inv:  398\n",
      "Total 1 unp inv:  59\n",
      "Total 0 unp:  375\n",
      "Total 1 unp:  82\n",
      "Total 0 unp inv:  402\n",
      "Total 1 unp inv:  55\n"
     ]
    },
    {
     "data": {
      "text/plain": [
       "Text(0.5,0.98,'Distribuição da probabilidade prevista para o grupo privilegiado (branco e amarelo)')"
      ]
     },
     "execution_count": 10,
     "metadata": {},
     "output_type": "execute_result"
    },
    {
     "data": {
      "image/png": "[encoded data removed]",
      "text/plain": [
       "<matplotlib.figure.Figure at 0x7efff9cad748>"
      ]
     },
     "metadata": {
      "needs_background": "light"
     },
     "output_type": "display_data"
    }
   ],
   "source": [
    "dataset_name = 'pnad_raca'\n",
    "data = 'orig'\n",
    "X_test_priv_inv = X_test_priv.copy()\n",
    "X_test_priv_inv[protected_attribute] = 0\n",
    "\n",
    "fig, axes = pl.subplots(nrows=1, ncols=2, figsize=(13,3.5))\n",
    "model_name = 'gb'\n",
    "ax=axes[0]\n",
    "plot_hist(dataset_name, data, model_name, X_test_priv, X_test_priv_inv)\n",
    "model_name = 'lr'\n",
    "ax=axes[1]\n",
    "plot_hist(dataset_name, data, model_name, X_test_priv, X_test_priv_inv)\n",
    "pl.suptitle(\"Distribuição da probabilidade prevista para o grupo privilegiado (branco e amarelo)\", fontsize=12, \n",
    "             fontweight='bold')\n",
    "# fig.legend(['original', 'invertida'], title=\"Variável sensível:\", \n",
    "#            frameon=False, loc = 'upper left')\n",
    "# pl.show()\n",
    "# pl.savefig('analysis_image/hist_pnad_raca.png', bbox_inches='tight', transparent=True)"
   ]
  },
  {
   "cell_type": "code",
   "execution_count": null,
   "metadata": {},
   "outputs": [],
   "source": []
  }
 ],
 "metadata": {
  "hide_input": false,
  "kernelspec": {
   "display_name": "Python 3",
   "language": "python",
   "name": "python3"
  },
  "language_info": {
   "codemirror_mode": {
    "name": "ipython",
    "version": 3
   },
   "file_extension": ".py",
   "mimetype": "text/x-python",
   "name": "python",
   "nbconvert_exporter": "python",
   "pygments_lexer": "ipython3",
   "version": "3.6.10"
  },
  "toc": {
   "base_numbering": 1,
   "nav_menu": {},
   "number_sections": true,
   "sideBar": true,
   "skip_h1_title": false,
   "title_cell": "Table of Contents",
   "title_sidebar": "Contents",
   "toc_cell": false,
   "toc_position": {
    "height": "calc(100% - 180px)",
    "left": "10px",
    "top": "150px",
    "width": "165px"
   },
   "toc_section_display": true,
   "toc_window_display": true
  }
 },
 "nbformat": 4,
 "nbformat_minor": 4
}
